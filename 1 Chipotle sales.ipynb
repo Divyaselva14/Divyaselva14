{
 "cells": [
  {
   "cell_type": "code",
   "execution_count": 1,
   "id": "e7b64902",
   "metadata": {},
   "outputs": [],
   "source": [
    "#import libraries \n",
    "import pandas as pd"
   ]
  },
  {
   "cell_type": "code",
   "execution_count": 56,
   "id": "83330fe8",
   "metadata": {},
   "outputs": [],
   "source": [
    "#load the file \n",
    "url = 'https://raw.githubusercontent.com/justmarkham/DAT8/master/data/chipotle.tsv'\n",
    "chipo = pd.read_csv(url, sep = '\\t')"
   ]
  },
  {
   "cell_type": "code",
   "execution_count": 73,
   "id": "7a0cdf35",
   "metadata": {},
   "outputs": [
    {
     "data": {
      "text/html": [
       "<div>\n",
       "<style scoped>\n",
       "    .dataframe tbody tr th:only-of-type {\n",
       "        vertical-align: middle;\n",
       "    }\n",
       "\n",
       "    .dataframe tbody tr th {\n",
       "        vertical-align: top;\n",
       "    }\n",
       "\n",
       "    .dataframe thead th {\n",
       "        text-align: right;\n",
       "    }\n",
       "</style>\n",
       "<table border=\"1\" class=\"dataframe\">\n",
       "  <thead>\n",
       "    <tr style=\"text-align: right;\">\n",
       "      <th></th>\n",
       "      <th>order_id</th>\n",
       "      <th>quantity</th>\n",
       "      <th>item_name</th>\n",
       "      <th>choice_description</th>\n",
       "      <th>item_price</th>\n",
       "    </tr>\n",
       "  </thead>\n",
       "  <tbody>\n",
       "    <tr>\n",
       "      <th>0</th>\n",
       "      <td>1</td>\n",
       "      <td>1</td>\n",
       "      <td>Chips and Fresh Tomato Salsa</td>\n",
       "      <td>NaN</td>\n",
       "      <td>2.39</td>\n",
       "    </tr>\n",
       "    <tr>\n",
       "      <th>1</th>\n",
       "      <td>1</td>\n",
       "      <td>1</td>\n",
       "      <td>Izze</td>\n",
       "      <td>[Clementine]</td>\n",
       "      <td>3.39</td>\n",
       "    </tr>\n",
       "    <tr>\n",
       "      <th>2</th>\n",
       "      <td>1</td>\n",
       "      <td>1</td>\n",
       "      <td>Nantucket Nectar</td>\n",
       "      <td>[Apple]</td>\n",
       "      <td>3.39</td>\n",
       "    </tr>\n",
       "    <tr>\n",
       "      <th>3</th>\n",
       "      <td>1</td>\n",
       "      <td>1</td>\n",
       "      <td>Chips and Tomatillo-Green Chili Salsa</td>\n",
       "      <td>NaN</td>\n",
       "      <td>2.39</td>\n",
       "    </tr>\n",
       "    <tr>\n",
       "      <th>4</th>\n",
       "      <td>2</td>\n",
       "      <td>2</td>\n",
       "      <td>Chicken Bowl</td>\n",
       "      <td>[Tomatillo-Red Chili Salsa (Hot), [Black Beans...</td>\n",
       "      <td>16.98</td>\n",
       "    </tr>\n",
       "    <tr>\n",
       "      <th>5</th>\n",
       "      <td>3</td>\n",
       "      <td>1</td>\n",
       "      <td>Chicken Bowl</td>\n",
       "      <td>[Fresh Tomato Salsa (Mild), [Rice, Cheese, Sou...</td>\n",
       "      <td>10.98</td>\n",
       "    </tr>\n",
       "    <tr>\n",
       "      <th>6</th>\n",
       "      <td>3</td>\n",
       "      <td>1</td>\n",
       "      <td>Side of Chips</td>\n",
       "      <td>NaN</td>\n",
       "      <td>1.69</td>\n",
       "    </tr>\n",
       "    <tr>\n",
       "      <th>7</th>\n",
       "      <td>4</td>\n",
       "      <td>1</td>\n",
       "      <td>Steak Burrito</td>\n",
       "      <td>[Tomatillo Red Chili Salsa, [Fajita Vegetables...</td>\n",
       "      <td>11.75</td>\n",
       "    </tr>\n",
       "    <tr>\n",
       "      <th>8</th>\n",
       "      <td>4</td>\n",
       "      <td>1</td>\n",
       "      <td>Steak Soft Tacos</td>\n",
       "      <td>[Tomatillo Green Chili Salsa, [Pinto Beans, Ch...</td>\n",
       "      <td>9.25</td>\n",
       "    </tr>\n",
       "    <tr>\n",
       "      <th>9</th>\n",
       "      <td>5</td>\n",
       "      <td>1</td>\n",
       "      <td>Steak Burrito</td>\n",
       "      <td>[Fresh Tomato Salsa, [Rice, Black Beans, Pinto...</td>\n",
       "      <td>9.25</td>\n",
       "    </tr>\n",
       "    <tr>\n",
       "      <th>10</th>\n",
       "      <td>5</td>\n",
       "      <td>1</td>\n",
       "      <td>Chips and Guacamole</td>\n",
       "      <td>NaN</td>\n",
       "      <td>4.45</td>\n",
       "    </tr>\n",
       "    <tr>\n",
       "      <th>11</th>\n",
       "      <td>6</td>\n",
       "      <td>1</td>\n",
       "      <td>Chicken Crispy Tacos</td>\n",
       "      <td>[Roasted Chili Corn Salsa, [Fajita Vegetables,...</td>\n",
       "      <td>8.75</td>\n",
       "    </tr>\n",
       "    <tr>\n",
       "      <th>12</th>\n",
       "      <td>6</td>\n",
       "      <td>1</td>\n",
       "      <td>Chicken Soft Tacos</td>\n",
       "      <td>[Roasted Chili Corn Salsa, [Rice, Black Beans,...</td>\n",
       "      <td>8.75</td>\n",
       "    </tr>\n",
       "    <tr>\n",
       "      <th>13</th>\n",
       "      <td>7</td>\n",
       "      <td>1</td>\n",
       "      <td>Chicken Bowl</td>\n",
       "      <td>[Fresh Tomato Salsa, [Fajita Vegetables, Rice,...</td>\n",
       "      <td>11.25</td>\n",
       "    </tr>\n",
       "    <tr>\n",
       "      <th>14</th>\n",
       "      <td>7</td>\n",
       "      <td>1</td>\n",
       "      <td>Chips and Guacamole</td>\n",
       "      <td>NaN</td>\n",
       "      <td>4.45</td>\n",
       "    </tr>\n",
       "    <tr>\n",
       "      <th>15</th>\n",
       "      <td>8</td>\n",
       "      <td>1</td>\n",
       "      <td>Chips and Tomatillo-Green Chili Salsa</td>\n",
       "      <td>NaN</td>\n",
       "      <td>2.39</td>\n",
       "    </tr>\n",
       "    <tr>\n",
       "      <th>16</th>\n",
       "      <td>8</td>\n",
       "      <td>1</td>\n",
       "      <td>Chicken Burrito</td>\n",
       "      <td>[Tomatillo-Green Chili Salsa (Medium), [Pinto ...</td>\n",
       "      <td>8.49</td>\n",
       "    </tr>\n",
       "    <tr>\n",
       "      <th>17</th>\n",
       "      <td>9</td>\n",
       "      <td>1</td>\n",
       "      <td>Chicken Burrito</td>\n",
       "      <td>[Fresh Tomato Salsa (Mild), [Black Beans, Rice...</td>\n",
       "      <td>8.49</td>\n",
       "    </tr>\n",
       "    <tr>\n",
       "      <th>18</th>\n",
       "      <td>9</td>\n",
       "      <td>2</td>\n",
       "      <td>Canned Soda</td>\n",
       "      <td>[Sprite]</td>\n",
       "      <td>2.18</td>\n",
       "    </tr>\n",
       "    <tr>\n",
       "      <th>19</th>\n",
       "      <td>10</td>\n",
       "      <td>1</td>\n",
       "      <td>Chicken Bowl</td>\n",
       "      <td>[Tomatillo Red Chili Salsa, [Fajita Vegetables...</td>\n",
       "      <td>8.75</td>\n",
       "    </tr>\n",
       "    <tr>\n",
       "      <th>20</th>\n",
       "      <td>10</td>\n",
       "      <td>1</td>\n",
       "      <td>Chips and Guacamole</td>\n",
       "      <td>NaN</td>\n",
       "      <td>4.45</td>\n",
       "    </tr>\n",
       "    <tr>\n",
       "      <th>21</th>\n",
       "      <td>11</td>\n",
       "      <td>1</td>\n",
       "      <td>Barbacoa Burrito</td>\n",
       "      <td>[[Fresh Tomato Salsa (Mild), Tomatillo-Green C...</td>\n",
       "      <td>8.99</td>\n",
       "    </tr>\n",
       "    <tr>\n",
       "      <th>22</th>\n",
       "      <td>11</td>\n",
       "      <td>1</td>\n",
       "      <td>Nantucket Nectar</td>\n",
       "      <td>[Pomegranate Cherry]</td>\n",
       "      <td>3.39</td>\n",
       "    </tr>\n",
       "    <tr>\n",
       "      <th>23</th>\n",
       "      <td>12</td>\n",
       "      <td>1</td>\n",
       "      <td>Chicken Burrito</td>\n",
       "      <td>[[Tomatillo-Green Chili Salsa (Medium), Tomati...</td>\n",
       "      <td>10.98</td>\n",
       "    </tr>\n",
       "    <tr>\n",
       "      <th>24</th>\n",
       "      <td>12</td>\n",
       "      <td>1</td>\n",
       "      <td>Izze</td>\n",
       "      <td>[Grapefruit]</td>\n",
       "      <td>3.39</td>\n",
       "    </tr>\n",
       "    <tr>\n",
       "      <th>25</th>\n",
       "      <td>13</td>\n",
       "      <td>1</td>\n",
       "      <td>Chips and Fresh Tomato Salsa</td>\n",
       "      <td>NaN</td>\n",
       "      <td>2.39</td>\n",
       "    </tr>\n",
       "    <tr>\n",
       "      <th>26</th>\n",
       "      <td>13</td>\n",
       "      <td>1</td>\n",
       "      <td>Chicken Bowl</td>\n",
       "      <td>[Roasted Chili Corn Salsa (Medium), [Pinto Bea...</td>\n",
       "      <td>8.49</td>\n",
       "    </tr>\n",
       "    <tr>\n",
       "      <th>27</th>\n",
       "      <td>14</td>\n",
       "      <td>1</td>\n",
       "      <td>Carnitas Burrito</td>\n",
       "      <td>[[Tomatillo-Green Chili Salsa (Medium), Roaste...</td>\n",
       "      <td>8.99</td>\n",
       "    </tr>\n",
       "    <tr>\n",
       "      <th>28</th>\n",
       "      <td>14</td>\n",
       "      <td>1</td>\n",
       "      <td>Canned Soda</td>\n",
       "      <td>[Dr. Pepper]</td>\n",
       "      <td>1.09</td>\n",
       "    </tr>\n",
       "    <tr>\n",
       "      <th>29</th>\n",
       "      <td>15</td>\n",
       "      <td>1</td>\n",
       "      <td>Chicken Burrito</td>\n",
       "      <td>[Tomatillo-Green Chili Salsa (Medium), [Pinto ...</td>\n",
       "      <td>8.49</td>\n",
       "    </tr>\n",
       "    <tr>\n",
       "      <th>30</th>\n",
       "      <td>15</td>\n",
       "      <td>1</td>\n",
       "      <td>Chips and Tomatillo-Green Chili Salsa</td>\n",
       "      <td>NaN</td>\n",
       "      <td>2.39</td>\n",
       "    </tr>\n",
       "    <tr>\n",
       "      <th>31</th>\n",
       "      <td>16</td>\n",
       "      <td>1</td>\n",
       "      <td>Steak Burrito</td>\n",
       "      <td>[[Roasted Chili Corn Salsa (Medium), Fresh Tom...</td>\n",
       "      <td>8.99</td>\n",
       "    </tr>\n",
       "    <tr>\n",
       "      <th>32</th>\n",
       "      <td>16</td>\n",
       "      <td>1</td>\n",
       "      <td>Side of Chips</td>\n",
       "      <td>NaN</td>\n",
       "      <td>1.69</td>\n",
       "    </tr>\n",
       "    <tr>\n",
       "      <th>33</th>\n",
       "      <td>17</td>\n",
       "      <td>1</td>\n",
       "      <td>Carnitas Bowl</td>\n",
       "      <td>[Tomatillo-Red Chili Salsa (Hot), [Black Beans...</td>\n",
       "      <td>8.99</td>\n",
       "    </tr>\n",
       "    <tr>\n",
       "      <th>34</th>\n",
       "      <td>17</td>\n",
       "      <td>1</td>\n",
       "      <td>Bottled Water</td>\n",
       "      <td>NaN</td>\n",
       "      <td>1.09</td>\n",
       "    </tr>\n",
       "    <tr>\n",
       "      <th>35</th>\n",
       "      <td>18</td>\n",
       "      <td>1</td>\n",
       "      <td>Chicken Soft Tacos</td>\n",
       "      <td>[Roasted Chili Corn Salsa, Rice]</td>\n",
       "      <td>8.75</td>\n",
       "    </tr>\n",
       "    <tr>\n",
       "      <th>36</th>\n",
       "      <td>18</td>\n",
       "      <td>1</td>\n",
       "      <td>Chicken Soft Tacos</td>\n",
       "      <td>[Roasted Chili Corn Salsa, [Cheese, Lettuce]]</td>\n",
       "      <td>8.75</td>\n",
       "    </tr>\n",
       "    <tr>\n",
       "      <th>37</th>\n",
       "      <td>18</td>\n",
       "      <td>1</td>\n",
       "      <td>Chips and Guacamole</td>\n",
       "      <td>NaN</td>\n",
       "      <td>4.45</td>\n",
       "    </tr>\n",
       "    <tr>\n",
       "      <th>38</th>\n",
       "      <td>18</td>\n",
       "      <td>1</td>\n",
       "      <td>Chips and Tomatillo Green Chili Salsa</td>\n",
       "      <td>NaN</td>\n",
       "      <td>2.95</td>\n",
       "    </tr>\n",
       "    <tr>\n",
       "      <th>39</th>\n",
       "      <td>19</td>\n",
       "      <td>1</td>\n",
       "      <td>Barbacoa Bowl</td>\n",
       "      <td>[Roasted Chili Corn Salsa, [Fajita Vegetables,...</td>\n",
       "      <td>11.75</td>\n",
       "    </tr>\n",
       "  </tbody>\n",
       "</table>\n",
       "</div>"
      ],
      "text/plain": [
       "    order_id  quantity                              item_name  \\\n",
       "0          1         1           Chips and Fresh Tomato Salsa   \n",
       "1          1         1                                   Izze   \n",
       "2          1         1                       Nantucket Nectar   \n",
       "3          1         1  Chips and Tomatillo-Green Chili Salsa   \n",
       "4          2         2                           Chicken Bowl   \n",
       "5          3         1                           Chicken Bowl   \n",
       "6          3         1                          Side of Chips   \n",
       "7          4         1                          Steak Burrito   \n",
       "8          4         1                       Steak Soft Tacos   \n",
       "9          5         1                          Steak Burrito   \n",
       "10         5         1                    Chips and Guacamole   \n",
       "11         6         1                   Chicken Crispy Tacos   \n",
       "12         6         1                     Chicken Soft Tacos   \n",
       "13         7         1                           Chicken Bowl   \n",
       "14         7         1                    Chips and Guacamole   \n",
       "15         8         1  Chips and Tomatillo-Green Chili Salsa   \n",
       "16         8         1                        Chicken Burrito   \n",
       "17         9         1                        Chicken Burrito   \n",
       "18         9         2                            Canned Soda   \n",
       "19        10         1                           Chicken Bowl   \n",
       "20        10         1                    Chips and Guacamole   \n",
       "21        11         1                       Barbacoa Burrito   \n",
       "22        11         1                       Nantucket Nectar   \n",
       "23        12         1                        Chicken Burrito   \n",
       "24        12         1                                   Izze   \n",
       "25        13         1           Chips and Fresh Tomato Salsa   \n",
       "26        13         1                           Chicken Bowl   \n",
       "27        14         1                       Carnitas Burrito   \n",
       "28        14         1                            Canned Soda   \n",
       "29        15         1                        Chicken Burrito   \n",
       "30        15         1  Chips and Tomatillo-Green Chili Salsa   \n",
       "31        16         1                          Steak Burrito   \n",
       "32        16         1                          Side of Chips   \n",
       "33        17         1                          Carnitas Bowl   \n",
       "34        17         1                          Bottled Water   \n",
       "35        18         1                     Chicken Soft Tacos   \n",
       "36        18         1                     Chicken Soft Tacos   \n",
       "37        18         1                    Chips and Guacamole   \n",
       "38        18         1  Chips and Tomatillo Green Chili Salsa   \n",
       "39        19         1                          Barbacoa Bowl   \n",
       "\n",
       "                                   choice_description  item_price  \n",
       "0                                                 NaN        2.39  \n",
       "1                                        [Clementine]        3.39  \n",
       "2                                             [Apple]        3.39  \n",
       "3                                                 NaN        2.39  \n",
       "4   [Tomatillo-Red Chili Salsa (Hot), [Black Beans...       16.98  \n",
       "5   [Fresh Tomato Salsa (Mild), [Rice, Cheese, Sou...       10.98  \n",
       "6                                                 NaN        1.69  \n",
       "7   [Tomatillo Red Chili Salsa, [Fajita Vegetables...       11.75  \n",
       "8   [Tomatillo Green Chili Salsa, [Pinto Beans, Ch...        9.25  \n",
       "9   [Fresh Tomato Salsa, [Rice, Black Beans, Pinto...        9.25  \n",
       "10                                                NaN        4.45  \n",
       "11  [Roasted Chili Corn Salsa, [Fajita Vegetables,...        8.75  \n",
       "12  [Roasted Chili Corn Salsa, [Rice, Black Beans,...        8.75  \n",
       "13  [Fresh Tomato Salsa, [Fajita Vegetables, Rice,...       11.25  \n",
       "14                                                NaN        4.45  \n",
       "15                                                NaN        2.39  \n",
       "16  [Tomatillo-Green Chili Salsa (Medium), [Pinto ...        8.49  \n",
       "17  [Fresh Tomato Salsa (Mild), [Black Beans, Rice...        8.49  \n",
       "18                                           [Sprite]        2.18  \n",
       "19  [Tomatillo Red Chili Salsa, [Fajita Vegetables...        8.75  \n",
       "20                                                NaN        4.45  \n",
       "21  [[Fresh Tomato Salsa (Mild), Tomatillo-Green C...        8.99  \n",
       "22                               [Pomegranate Cherry]        3.39  \n",
       "23  [[Tomatillo-Green Chili Salsa (Medium), Tomati...       10.98  \n",
       "24                                       [Grapefruit]        3.39  \n",
       "25                                                NaN        2.39  \n",
       "26  [Roasted Chili Corn Salsa (Medium), [Pinto Bea...        8.49  \n",
       "27  [[Tomatillo-Green Chili Salsa (Medium), Roaste...        8.99  \n",
       "28                                       [Dr. Pepper]        1.09  \n",
       "29  [Tomatillo-Green Chili Salsa (Medium), [Pinto ...        8.49  \n",
       "30                                                NaN        2.39  \n",
       "31  [[Roasted Chili Corn Salsa (Medium), Fresh Tom...        8.99  \n",
       "32                                                NaN        1.69  \n",
       "33  [Tomatillo-Red Chili Salsa (Hot), [Black Beans...        8.99  \n",
       "34                                                NaN        1.09  \n",
       "35                   [Roasted Chili Corn Salsa, Rice]        8.75  \n",
       "36      [Roasted Chili Corn Salsa, [Cheese, Lettuce]]        8.75  \n",
       "37                                                NaN        4.45  \n",
       "38                                                NaN        2.95  \n",
       "39  [Roasted Chili Corn Salsa, [Fajita Vegetables,...       11.75  "
      ]
     },
     "execution_count": 73,
     "metadata": {},
     "output_type": "execute_result"
    }
   ],
   "source": [
    "chipo.head(40)"
   ]
  },
  {
   "cell_type": "markdown",
   "id": "7c253a7c",
   "metadata": {},
   "source": [
    "# 1. Which was the most-ordered item?"
   ]
  },
  {
   "cell_type": "code",
   "execution_count": 58,
   "id": "7a21f21d",
   "metadata": {},
   "outputs": [
    {
     "name": "stdout",
     "output_type": "stream",
     "text": [
      "Most ordered item is Chicken Bowl\n"
     ]
    }
   ],
   "source": [
    "most_ordered = chipo['item_name'].value_counts().idxmax()\n",
    "print('Most ordered item is',most_ordered)"
   ]
  },
  {
   "cell_type": "markdown",
   "id": "4ab8a773",
   "metadata": {},
   "source": [
    "# 2. For the most-ordered item, how many items were ordered?"
   ]
  },
  {
   "cell_type": "code",
   "execution_count": 104,
   "id": "4b9a6908",
   "metadata": {
    "scrolled": true
   },
   "outputs": [
    {
     "name": "stdout",
     "output_type": "stream",
     "text": [
      "The number of times chicken bowl was ordered is 726\n"
     ]
    }
   ],
   "source": [
    "#total number of chicken bowls ordered\n",
    "most_ordered_count = chipo['item_name'].value_counts()\n",
    "print('The number of times chicken bowl was ordered is',most_ordered_count[0])"
   ]
  },
  {
   "cell_type": "markdown",
   "id": "301ecbfb",
   "metadata": {},
   "source": [
    "# 3.How many items were ordered in total?"
   ]
  },
  {
   "cell_type": "code",
   "execution_count": 60,
   "id": "fb4ed47a",
   "metadata": {},
   "outputs": [
    {
     "name": "stdout",
     "output_type": "stream",
     "text": [
      "Total number of times items were ordered is 4972\n"
     ]
    }
   ],
   "source": [
    "#count the total number of orders\n",
    "total_items = chipo['quantity'].sum()\n",
    "print('Total number of times items were ordered is',total_items)"
   ]
  },
  {
   "cell_type": "markdown",
   "id": "e0996ab8",
   "metadata": {},
   "source": [
    "# 4.Turn the item price into a float"
   ]
  },
  {
   "cell_type": "code",
   "execution_count": 62,
   "id": "f255752a",
   "metadata": {},
   "outputs": [],
   "source": [
    "#checking data type\n",
    "chipo.dtypes\n",
    "\n",
    "#str to float\n",
    "\n",
    "chipo[\"item_price\"] = chipo[\"item_price\"].apply(lambda x: float(x[1:-1]))\n"
   ]
  },
  {
   "cell_type": "markdown",
   "id": "776860ac",
   "metadata": {},
   "source": [
    "# 5.How much was the revenue for the period in the dataset"
   ]
  },
  {
   "cell_type": "code",
   "execution_count": 66,
   "id": "857afba6",
   "metadata": {},
   "outputs": [
    {
     "name": "stdout",
     "output_type": "stream",
     "text": [
      "Revenue for the period in the dataset is 39237.02\n"
     ]
    }
   ],
   "source": [
    "#revenue calculation \n",
    "\n",
    "revenue= chipo['quantity']*chipo['item_price']\n",
    "revenue=revenue.sum()\n",
    "print('Revenue for the period in the dataset is',revenue)"
   ]
  },
  {
   "cell_type": "markdown",
   "id": "ddae55e3",
   "metadata": {},
   "source": [
    "# 6.How many orders were made in the period"
   ]
  },
  {
   "cell_type": "code",
   "execution_count": 78,
   "id": "4c4f5234",
   "metadata": {},
   "outputs": [
    {
     "data": {
      "text/plain": [
       "1834"
      ]
     },
     "execution_count": 78,
     "metadata": {},
     "output_type": "execute_result"
    }
   ],
   "source": [
    "#total orders\n",
    "\n",
    "total_orders = chipo['order_id'].value_counts().count()\n",
    "total_orders"
   ]
  },
  {
   "cell_type": "markdown",
   "id": "9e73a6f3",
   "metadata": {},
   "source": [
    "# 7.What is the average revenue amount per order?"
   ]
  },
  {
   "cell_type": "code",
   "execution_count": 85,
   "id": "9c483101",
   "metadata": {},
   "outputs": [
    {
     "name": "stdout",
     "output_type": "stream",
     "text": [
      "The average revenue amount per order is 21.39\n"
     ]
    }
   ],
   "source": [
    "avg_order_value=round(revenue/total_orders,2)\n",
    "print('The average revenue amount per order is',avg_order_value)"
   ]
  },
  {
   "cell_type": "markdown",
   "id": "45012539",
   "metadata": {},
   "source": [
    "# 8.How many different items are sold?"
   ]
  },
  {
   "cell_type": "code",
   "execution_count": 86,
   "id": "ec7ec2a5",
   "metadata": {},
   "outputs": [
    {
     "name": "stdout",
     "output_type": "stream",
     "text": [
      "The number of different items sold is 50\n"
     ]
    }
   ],
   "source": [
    "items_sold=chipo['item_name'].value_counts().count()\n",
    "print('The number of different items sold is',items_sold)"
   ]
  },
  {
   "cell_type": "markdown",
   "id": "0dc7a594",
   "metadata": {},
   "source": [
    "# 9.What was the most ordered item in the choice_description column?"
   ]
  },
  {
   "cell_type": "code",
   "execution_count": 103,
   "id": "b22dfca8",
   "metadata": {},
   "outputs": [
    {
     "name": "stdout",
     "output_type": "stream",
     "text": [
      "The most ordered item in the choice_description is Diet Coke\n"
     ]
    }
   ],
   "source": [
    "most_ordered_cd=chipo['choice_description'].explode().value_counts().idxmax()\n",
    "print('The most ordered item in the choice_description is',most_ordered_cd[1:-1])"
   ]
  },
  {
   "cell_type": "code",
   "execution_count": null,
   "id": "a2a721cf",
   "metadata": {},
   "outputs": [],
   "source": []
  }
 ],
 "metadata": {
  "kernelspec": {
   "display_name": "Python 3 (ipykernel)",
   "language": "python",
   "name": "python3"
  },
  "language_info": {
   "codemirror_mode": {
    "name": "ipython",
    "version": 3
   },
   "file_extension": ".py",
   "mimetype": "text/x-python",
   "name": "python",
   "nbconvert_exporter": "python",
   "pygments_lexer": "ipython3",
   "version": "3.9.13"
  }
 },
 "nbformat": 4,
 "nbformat_minor": 5
}
